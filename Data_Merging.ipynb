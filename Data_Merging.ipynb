{
 "cells": [
  {
   "cell_type": "markdown",
   "id": "b4fd20e9-f360-465e-9c54-6b78ef9a6eed",
   "metadata": {},
   "source": [
    "# Data Merging"
   ]
  },
  {
   "cell_type": "code",
   "execution_count": null,
   "id": "bb9b6cc7-87b7-4ada-bb43-5f7f31867487",
   "metadata": {},
   "outputs": [],
   "source": [
    "# importing relevant libraries\n",
    "import pandas as pd\n",
    "import numpy as np\n",
    "import matplotlib.pyplot as plt\n",
    "from fuzzywuzzy import fuzz\n",
    "from fuzzywuzzy import process"
   ]
  },
  {
   "cell_type": "code",
   "execution_count": null,
   "id": "82eb6ace-3c6b-4573-b65a-56a57131fca1",
   "metadata": {},
   "outputs": [],
   "source": [
    "profiles = pd.read_csv('nfl_draft_profiles.csv')\n",
    "prospects = pd.read_csv('nfl_draft_prospects.csv')\n",
    "college = pd.read_csv('college_statistics.csv')\n",
    "print(college)"
   ]
  },
  {
   "cell_type": "code",
   "execution_count": null,
   "id": "e25792aa-41c3-46af-928e-3505a82e2538",
   "metadata": {},
   "outputs": [],
   "source": [
    "qb = college[college['pos_abbr'] == 'QB']\n",
    "print(qb['player_name'].unique())\n",
    "print(qb[qb['player_name']=='Patrick Mahomes'])"
   ]
  },
  {
   "cell_type": "code",
   "execution_count": null,
   "id": "eddebb86-3476-4182-b6e6-c8e887d3b3cc",
   "metadata": {},
   "outputs": [],
   "source": [
    "college = college.dropna(subset=['player_name', 'value'])\n",
    "\n",
    "all_stars = college.groupby(['player_id', 'player_name','alt_player_id'])['all_star'].sum().reset_index().rename(columns={'all_star': 'all_star_count'})\n",
    "college_career = college.groupby(['player_id', 'alt_player_id','player_name','statistic'])['value'].sum().reset_index()\n",
    "college_stats = college_career.pivot(index=['player_name','player_id','alt_player_id'], columns='statistic', values='value')\n",
    "\n",
    "college_stats = pd.merge(college_stats, all_stars, on = ['player_name','player_id', 'alt_player_id'], how = 'left')\n",
    "print(college_stats)"
   ]
  },
  {
   "cell_type": "code",
   "execution_count": null,
   "id": "b0013749-f314-4b2c-b24b-2f8cb8c28d17",
   "metadata": {},
   "outputs": [],
   "source": [
    "data = pd.merge(profiles, prospects, on = 'player_id', suffixes = ('', '_y'))\n",
    "data.drop(data.filter(regex='_y$').columns, axis=1, inplace=True)\n",
    "data = data.dropna(subset = ['player_id'])\n",
    "print(data)"
   ]
  },
  {
   "cell_type": "code",
   "execution_count": null,
   "id": "3212772d-90e8-4295-a36c-ef6a3f25d231",
   "metadata": {},
   "outputs": [],
   "source": [
    "df = pd.merge(data, college_stats, on = ['player_name', 'player_id'], how = 'left')\n",
    "df = df.dropna(subset = ['guid'])"
   ]
  },
  {
   "cell_type": "markdown",
   "id": "50b3397a-14cb-4ab9-90e1-b11949ec9467",
   "metadata": {},
   "source": [
    "# QB SPECIFICS"
   ]
  },
  {
   "cell_type": "code",
   "execution_count": null,
   "id": "41121a21-947f-4162-a8ae-c768af9e4ac5",
   "metadata": {},
   "outputs": [],
   "source": [
    "qbr = pd.read_csv('college_qbr.csv')"
   ]
  },
  {
   "cell_type": "code",
   "execution_count": null,
   "id": "42642eed-3d38-468b-b974-bd5ba824e697",
   "metadata": {},
   "outputs": [],
   "source": [
    "average_columns = [\n",
    "    col for col in qbr.columns if col not in ['guid', 'player_name', 'season', 'points_added', 'age']\n",
    "]\n",
    "\n",
    "qbr_summary = qbr.groupby(['guid', 'player_name']).agg({col: 'mean' for col in average_columns},).join(\n",
    "    qbr.groupby(['guid', 'player_name'])['points_added'].sum().rename('career_sum_points_added')).reset_index()\n",
    "\n",
    "qbr_summary.rename(columns={col: f\"career_avg_{col}\" for col in average_columns}, inplace=True)\n",
    "qbr_summary['career_avg_qb_plays'] = qbr_summary['career_avg_qb_plays'].astype(int)"
   ]
  },
  {
   "cell_type": "code",
   "execution_count": null,
   "id": "79822b7e-b16a-4571-b5fa-8e15e85eefd2",
   "metadata": {},
   "outputs": [],
   "source": [
    "dataset = pd.merge(df, qbr_summary, on = ['player_name', 'guid'], how = 'left')\n",
    "print(dataset)"
   ]
  },
  {
   "cell_type": "markdown",
   "id": "eab45edc-88b1-4dbe-b8ef-f46bef8fd331",
   "metadata": {},
   "source": [
    "# Cleaning UP"
   ]
  },
  {
   "cell_type": "code",
   "execution_count": null,
   "id": "c1e99203-6417-4bc9-ab5c-b1c5c30feb2d",
   "metadata": {},
   "outputs": [],
   "source": [
    "dataset = dataset.rename(columns = {'alt_player_id_x':'alt_player_id'})\n",
    "dataset = dataset.drop(columns = ['position','player_image', 'link', 'school_logo', 'school', 'school_name', 'traded', 'trade_note', 'team',\n",
    "                                 'team_logo_espn', 'alt_player_id_y'])\n",
    "print(dataset)"
   ]
  },
  {
   "cell_type": "code",
   "execution_count": null,
   "id": "42b22038-b5e2-4cef-b2aa-c37c56f62e83",
   "metadata": {},
   "outputs": [],
   "source": [
    "dataset = dataset.copy()\n",
    "dataset['scouting'] = dataset[['text1', 'text2', 'text3', 'text4']].apply(\n",
    "    lambda row: ' '.join(row.dropna()), axis=1\n",
    ")\n",
    "dataset = dataset.drop(columns = ['text1', 'text2', 'text3', 'text4', 'Total Points', 'all_star_count'])"
   ]
  },
  {
   "cell_type": "code",
   "execution_count": null,
   "id": "dab5b9ec-1e99-4351-b593-c32bcb75865f",
   "metadata": {},
   "outputs": [],
   "source": [
    "print(dataset['draft_year'].unique())"
   ]
  },
  {
   "cell_type": "code",
   "execution_count": null,
   "id": "c3a62387-bc06-4815-b7fb-46257f4dbd6a",
   "metadata": {},
   "outputs": [],
   "source": [
    "dataset = dataset[(dataset['draft_year'] >= 2012) & (dataset['draft_year']<= 2020)]\n",
    "print(dataset['draft_year'])"
   ]
  },
  {
   "cell_type": "markdown",
   "id": "16fb641e-2c3c-4ef5-80a9-78ece5af8558",
   "metadata": {},
   "source": [
    "# FIXING QB vals`"
   ]
  },
  {
   "cell_type": "code",
   "execution_count": null,
   "id": "b650466d-9a77-499c-a554-7d44fa9c0a20",
   "metadata": {},
   "outputs": [],
   "source": [
    "scrap_qb = pd.read_csv('complete_qb.csv')"
   ]
  },
  {
   "cell_type": "code",
   "execution_count": null,
   "id": "3b3ae458-f369-4a9e-b567-dfadf1cac469",
   "metadata": {},
   "outputs": [],
   "source": [
    "print(scrap_qb.columns)\n",
    "scrap_qb = scrap_qb.drop(columns = ['year_id', 'pos'])\n",
    "print(scrap_qb[scrap_qb['player_name'] == 'Kyler Murray']['pass_td'])"
   ]
  },
  {
   "cell_type": "code",
   "execution_count": null,
   "id": "2c41232b-2563-492e-a9e1-cc5eecc8e5f6",
   "metadata": {},
   "outputs": [],
   "source": [
    "print(dataset.columns)\n",
    "print(len(dataset))\n",
    "print(dataset[dataset['player_name'] == 'Kyler Murray'])"
   ]
  },
  {
   "cell_type": "code",
   "execution_count": null,
   "id": "e88a8a57-d8eb-49eb-8314-93803f5866a8",
   "metadata": {},
   "outputs": [],
   "source": [
    "qb_mapping = {\n",
    "    'Completion Percentage':'pass_cmp_pct',\n",
    "    'Completions':'pass_cmp',\n",
    "    'Interceptions':'pass_int',\n",
    "    'Passer Rating':'pass_rating',\n",
    "    'Passing Attempts':'pass_att',\n",
    "    'Passing Touchdowns':'pass_td',\n",
    "    'Passing Yards':'pass_yds',\n",
    "    'Receiving Touchdowns':'rec_td',\n",
    "    'Receiving Yards':'rec_yds',\n",
    "    'Receptions':'rec',\n",
    "    'Rushing Attempts':'rush_att',\n",
    "    'Rushing Touchdowns':'rush_td',\n",
    "    'Rushing Yards':'rush_yds',\n",
    "    'Total Touchdowns':'scrim_td',\n",
    "    'Yards Per Pass Attempt':'pass_yds_per_att',\n",
    "    'Yards Per Reception':'rec_yds_per_rec',\n",
    "    'Yards Per Rush Attempt':'rush_yds_per_att'\n",
    "}"
   ]
  },
  {
   "cell_type": "code",
   "execution_count": null,
   "id": "fdb9f395-3d40-4328-a271-7d6d7f97480f",
   "metadata": {},
   "outputs": [],
   "source": [
    "qb_only_relevant = scrap_qb[['player_name'] + list(qb_mapping.values())]\n",
    "\n",
    "merged_df = pd.merge(\n",
    "    dataset,\n",
    "    qb_only_relevant,\n",
    "    on='player_name',\n",
    "    how='left'\n",
    ")\n",
    "\n",
    "for multi_col, qb_col in qb_mapping.items():\n",
    "    merged_df[multi_col] = merged_df[multi_col].combine_first(merged_df[qb_col])\n",
    "\n",
    "merged_df = merged_df.drop(columns=list(qb_mapping.values()))\n",
    "\n",
    "print(merged_df)"
   ]
  },
  {
   "cell_type": "markdown",
   "id": "824b93e5-0dc5-42bd-9054-a0c61cf0980c",
   "metadata": {},
   "source": [
    "## Incorporating Combine Stats"
   ]
  },
  {
   "cell_type": "code",
   "execution_count": null,
   "id": "2aa04415-2cfb-4531-a519-970442c61e9b",
   "metadata": {},
   "outputs": [],
   "source": [
    "def fuzzy_match(row, df_to_match, column_name):\n",
    "    name = row['player_name']\n",
    "    matches = process.extract(name, df_to_match[column_name], scorer=fuzz.partial_ratio)\n",
    "    best_match, score, _ = matches[0]\n",
    "    return best_match if score >= 80 else None"
   ]
  },
  {
   "cell_type": "code",
   "execution_count": null,
   "id": "b400a90c-0fb3-4870-8d10-fa2ee1c7e5bb",
   "metadata": {},
   "outputs": [],
   "source": [
    "combine = pd.read_csv('complete_combine.csv')\n",
    "print(combine['Year'].unique())\n",
    "combine = combine.drop(columns = ['School', 'College', 'Ht', 'Wt', 'Drafted', 'Unnamed: 0', 'Year'])\n",
    "print(combine)"
   ]
  },
  {
   "cell_type": "code",
   "execution_count": null,
   "id": "42a294ed-075b-43f4-a221-010963f19f61",
   "metadata": {},
   "outputs": [],
   "source": [
    "merged_df['matched_name'] = merged_df.apply(fuzzy_match, df_to_match=combine, column_name='Player', axis=1)\n",
    "merged_df = pd.merge(merged_df, combine, left_on=['matched_name', 'pos_abbr'], right_on=['Player', 'Pos'], how = 'left')\n",
    "print(merged_df[['player_name', 'matched_name']])"
   ]
  },
  {
   "cell_type": "code",
   "execution_count": null,
   "id": "ae9d5660-7cab-43cd-a948-bfbc9e63fe0f",
   "metadata": {},
   "outputs": [],
   "source": [
    "print(merged_df.columns)"
   ]
  },
  {
   "cell_type": "code",
   "execution_count": null,
   "id": "d9c60b2b-48e4-419d-a6f4-abfde92b7578",
   "metadata": {},
   "outputs": [],
   "source": [
    "merged_df = merged_df.drop(columns = ['matched_name', 'Player', 'Pos', 'guid', 'alt_player_id', 'school_abbr', 'pos_rk', 'ovr_rk', 'grade',\n",
    "                                      'pick', 'overall', 'round', 'team_abbr'])\n",
    "merged_df.to_csv('complete_nan.csv')"
   ]
  },
  {
   "cell_type": "code",
   "execution_count": null,
   "id": "445fd1f3-c394-46c9-9313-949bf2731e54",
   "metadata": {},
   "outputs": [],
   "source": []
  },
  {
   "cell_type": "code",
   "execution_count": null,
   "id": "1bf9b36f-4451-4f19-ad33-7390e7815e0b",
   "metadata": {},
   "outputs": [],
   "source": []
  },
  {
   "cell_type": "code",
   "execution_count": null,
   "id": "919d87f4-e7d9-40db-abde-6653d4254017",
   "metadata": {},
   "outputs": [],
   "source": []
  }
 ],
 "metadata": {
  "kernelspec": {
   "display_name": "Python 3 (ipykernel)",
   "language": "python",
   "name": "python3"
  },
  "language_info": {
   "codemirror_mode": {
    "name": "ipython",
    "version": 3
   },
   "file_extension": ".py",
   "mimetype": "text/x-python",
   "name": "python",
   "nbconvert_exporter": "python",
   "pygments_lexer": "ipython3",
   "version": "3.11.0"
  }
 },
 "nbformat": 4,
 "nbformat_minor": 5
}
