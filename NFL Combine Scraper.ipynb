{
 "cells": [
  {
   "cell_type": "markdown",
   "id": "8251bb67-80bc-4b6c-bf39-a083821dbe49",
   "metadata": {},
   "source": [
    "# NFL Combine Scraper"
   ]
  },
  {
   "cell_type": "code",
   "execution_count": null,
   "id": "56e8e051-03a2-4f79-9558-2661cc4c188c",
   "metadata": {},
   "outputs": [],
   "source": [
    "# Import\n",
    "import numpy as np\n",
    "import pandas as pd\n",
    "from sklearn.linear_model import LinearRegression\n",
    "import csv\n",
    "from sklearn.preprocessing import MinMaxScaler\n",
    "import requests\n",
    "from bs4 import BeautifulSoup"
   ]
  },
  {
   "cell_type": "code",
   "execution_count": null,
   "id": "752fd3b4-71da-4262-9d57-a0164f9b1aee",
   "metadata": {},
   "outputs": [],
   "source": [
    "def scrape_combine_data(year):\n",
    "    url = f'https://www.pro-football-reference.com/draft/{year}-combine.htm'\n",
    "    \n",
    "    response = requests.get(url)\n",
    "    soup = BeautifulSoup(response.content, 'html.parser')\n",
    "    table = soup.find('table', {'class': 'stats_table'})\n",
    "    rows = table.find_all('tr')[1:]\n",
    "\n",
    "    player_data = []\n",
    "    for row in rows:\n",
    "        cols = row.find_all('td')\n",
    "        if len(cols) > 0: \n",
    "            player = {\n",
    "                'Year': year,\n",
    "                'Player': row.find('th', {'data-stat': 'player'}).get_text(),\n",
    "                'Pos': cols[0].get_text() if cols[0].get_text() != '' else np.nan,\n",
    "                'School': cols[1].get_text() if cols[1].get_text() != '' else np.nan,\n",
    "                'College': cols[2].get_text() if cols[2].get_text() != '' else np.nan,\n",
    "                'Ht': cols[3].get_text() if cols[3].get_text() != '' else np.nan,\n",
    "                'Wt': cols[4].get_text() if cols[4].get_text() != '' else np.nan,\n",
    "                '40yd': cols[5].get_text() if cols[5].get_text() != '' else np.nan,\n",
    "                'Vertical': cols[6].get_text() if cols[6].get_text() != '' else np.nan,\n",
    "                'Bench': cols[7].get_text() if cols[7].get_text() != '' else np.nan,\n",
    "                'Broad Jump': cols[8].get_text() if cols[8].get_text() != '' else np.nan,\n",
    "                '3Cone': cols[9].get_text() if len(cols) > 9 and cols[9].get_text() != '' else np.nan,\n",
    "                'Shuttle': cols[10].get_text() if len(cols) > 10 and cols[10].get_text() != '' else np.nan,\n",
    "                'Drafted': cols[11].get_text() if len(cols) > 11 and cols[11].get_text() != '' else np.nan\n",
    "            }\n",
    "            player_data.append(player)\n",
    "\n",
    "    return pd.DataFrame(player_data)"
   ]
  },
  {
   "cell_type": "code",
   "execution_count": null,
   "id": "9ba6517c-a4ed-4304-840b-99f7d17250e2",
   "metadata": {},
   "outputs": [],
   "source": [
    "all_data = []\n",
    "for year in range(2012, 2021):\n",
    "    df_year = scrape_combine_data(year)\n",
    "    all_data.append(df_year)\n",
    "\n",
    "final_df = pd.concat(all_data, ignore_index=True)\n"
   ]
  },
  {
   "cell_type": "code",
   "execution_count": null,
   "id": "63648ff7-535f-4939-bebe-888bff7b96c6",
   "metadata": {},
   "outputs": [],
   "source": [
    "print(final_df.columns)"
   ]
  },
  {
   "cell_type": "code",
   "execution_count": null,
   "id": "ed27cc90-e43a-42dd-9e55-53ad0b2c436f",
   "metadata": {},
   "outputs": [],
   "source": [
    "final_df.to_csv('complete_combine.csv')"
   ]
  },
  {
   "cell_type": "code",
   "execution_count": null,
   "id": "6adba17b-f780-4f9d-af90-bf8f93eda777",
   "metadata": {},
   "outputs": [],
   "source": []
  },
  {
   "cell_type": "code",
   "execution_count": null,
   "id": "6172d5bc-45b7-41eb-85b8-0a5cd882c186",
   "metadata": {},
   "outputs": [],
   "source": []
  }
 ],
 "metadata": {
  "kernelspec": {
   "display_name": "Python 3 (ipykernel)",
   "language": "python",
   "name": "python3"
  },
  "language_info": {
   "codemirror_mode": {
    "name": "ipython",
    "version": 3
   },
   "file_extension": ".py",
   "mimetype": "text/x-python",
   "name": "python",
   "nbconvert_exporter": "python",
   "pygments_lexer": "ipython3",
   "version": "3.11.0"
  }
 },
 "nbformat": 4,
 "nbformat_minor": 5
}
