{
 "cells": [
  {
   "cell_type": "markdown",
   "id": "96dfcaf3-446e-42c9-b2f4-e396da646935",
   "metadata": {},
   "source": [
    "# Spearman Rank"
   ]
  },
  {
   "cell_type": "code",
   "execution_count": null,
   "id": "9df38c95-9014-45ad-9910-44b1e6d604ef",
   "metadata": {},
   "outputs": [],
   "source": [
    "import numpy as np\n",
    "import pandas as pd"
   ]
  },
  {
   "cell_type": "code",
   "execution_count": null,
   "id": "510e6d70-59ab-41b0-9a8d-ed65b8a10918",
   "metadata": {},
   "outputs": [],
   "source": [
    "data = pd.read_excel('redraft_2012.xlsx')\n",
    "data = data.dropna(subset = ['Redraft Pick'])\n",
    "data['Original Pick'] = data['Original Pick'].astype(int)\n",
    "data['Redraft Pick'] = data['Redraft Pick'].astype(int)\n",
    "\n",
    "spearman = data['Original Pick'].corr(data['Redraft Pick'], method='spearman')\n",
    "print(spearman)"
   ]
  },
  {
   "cell_type": "code",
   "execution_count": null,
   "id": "fe963c69-d554-44e6-a6ec-24407f960587",
   "metadata": {},
   "outputs": [],
   "source": []
  }
 ],
 "metadata": {
  "kernelspec": {
   "display_name": "Python 3 (ipykernel)",
   "language": "python",
   "name": "python3"
  },
  "language_info": {
   "codemirror_mode": {
    "name": "ipython",
    "version": 3
   },
   "file_extension": ".py",
   "mimetype": "text/x-python",
   "name": "python",
   "nbconvert_exporter": "python",
   "pygments_lexer": "ipython3",
   "version": "3.11.0"
  }
 },
 "nbformat": 4,
 "nbformat_minor": 5
}
