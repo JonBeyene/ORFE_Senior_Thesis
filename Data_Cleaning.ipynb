{
 "cells": [
  {
   "cell_type": "markdown",
   "id": "1e33da18-ce68-45dd-8d25-278fbd676e37",
   "metadata": {},
   "source": [
    "# Data Cleaning"
   ]
  },
  {
   "cell_type": "code",
   "execution_count": null,
   "id": "4e394216-d04a-4cd9-b53b-91258f0895e9",
   "metadata": {},
   "outputs": [],
   "source": [
    "!pip install numpy==1.23.5 scikit-learn==1.2.2"
   ]
  },
  {
   "cell_type": "code",
   "execution_count": null,
   "id": "ba2f7fd4-e11c-4c29-ac0e-680d6cb21176",
   "metadata": {},
   "outputs": [],
   "source": [
    "# Import\n",
    "import numpy as np\n",
    "import pandas as pd\n",
    "from sklearn.linear_model import LinearRegression\n",
    "import csv\n",
    "from sklearn.preprocessing import MinMaxScaler"
   ]
  },
  {
   "cell_type": "code",
   "execution_count": null,
   "id": "8b29c583-2817-46b0-a588-fdff5cea6de0",
   "metadata": {},
   "outputs": [],
   "source": [
    "data = pd.read_csv('complete_nan.csv')\n",
    "data = data.drop(columns = ['Unnamed: 0'])\n",
    "print(data)\n",
    "print(data.columns)"
   ]
  },
  {
   "cell_type": "code",
   "execution_count": null,
   "id": "535e10c5-4af8-4e0d-b271-2b325c2ec513",
   "metadata": {},
   "outputs": [],
   "source": [
    "combine_tests = ['40yd','Vertical', 'Bench', 'Broad Jump', '3Cone', 'Shuttle']\n",
    "for col in combine_tests:\n",
    "    data[f'{col}_done'] = data[col].notna().astype(int)\n",
    "print(data)"
   ]
  },
  {
   "cell_type": "code",
   "execution_count": null,
   "id": "232fb241-596b-4a29-afb2-022c2a582de5",
   "metadata": {},
   "outputs": [],
   "source": [
    "for col in combine_tests:\n",
    "    data[col] = data.groupby('pos_abbr')[col].transform(lambda x: x.fillna(x.mean()))\n",
    "print(data)"
   ]
  },
  {
   "cell_type": "code",
   "execution_count": null,
   "id": "cccd1499-b6e8-4b9c-9601-e1a9b43f8a93",
   "metadata": {},
   "outputs": [],
   "source": [
    "print(data[data['Broad Jump'].isna()]['pos_abbr'].unique())"
   ]
  },
  {
   "cell_type": "code",
   "execution_count": null,
   "id": "8d87284b-f312-4be5-a81e-afd59beb65b8",
   "metadata": {},
   "outputs": [],
   "source": [
    "stat_missing_group = {\n",
    "    '40yd':data[data['40yd'].isna()]['pos_abbr'].unique(),\n",
    "    'Vertical':data[data['Vertical'].isna()]['pos_abbr'].unique(),\n",
    "    'Bench':data[data['Bench'].isna()]['pos_abbr'].unique(),\n",
    "    'Broad Jump':data[data['Broad Jump'].isna()]['pos_abbr'].unique(),\n",
    "    '3Cone':data[data['3Cone'].isna()]['pos_abbr'].unique(),\n",
    "    'Shuttle':data[data['Shuttle'].isna()]['pos_abbr'].unique()\n",
    "}\n",
    "\n",
    "for stat, missing in stat_missing_group.items():\n",
    "    train = data[data[stat].notna()]\n",
    "\n",
    "    X_train = train[['weight', 'height']]\n",
    "    y_train = train[stat]\n",
    "\n",
    "    model = LinearRegression()\n",
    "    model.fit(X_train, y_train)\n",
    "\n",
    "    for pos in missing:\n",
    "        predict = data[(data['pos_abbr'] == pos) & (data[stat].isna())]\n",
    "\n",
    "        if not predict.empty:\n",
    "            X_test = predict[['weight', 'height']]\n",
    "            Y_test = model.predict(X_test)\n",
    "\n",
    "            data.loc[(data['pos_abbr'] == pos) & (data[stat].isna()),stat] = Y_test"
   ]
  },
  {
   "cell_type": "code",
   "execution_count": null,
   "id": "74d2098f-56c4-42af-a78c-a1c5c73d150e",
   "metadata": {},
   "outputs": [],
   "source": [
    "print(data.columns)"
   ]
  },
  {
   "cell_type": "code",
   "execution_count": null,
   "id": "580e8506-6a5d-4f05-aaf5-01edd47828a6",
   "metadata": {},
   "outputs": [],
   "source": [
    "columns_to_zero = ['Assist Tackles', 'Completion Percentage', 'Completions',\n",
    "       'Extra Points Made', 'FGM 1-19 yards', 'FGM 20-29 yards',\n",
    "       'FGM 30-39 yards', 'FGM 40-49 yards', 'FGM 50+ yards',\n",
    "       'Field Goal Attempts', 'Field Goal Made', 'Field Goal Percentage',\n",
    "       'Field Goals', 'Forced Fumbles', 'Gross Average Punt Yards',\n",
    "       'Interception Touchdowns', 'Interception Yards', 'Interceptions',\n",
    "       'Kick Extra Points', 'Kick Return Touchdowns', 'Kick Return Yards',\n",
    "       'Kick Returns', 'Long Field Goal Made', 'Long Kick Return', 'Long Punt',\n",
    "       'Long Punt Return', 'Long Reception', 'Long Rushing', 'Longest Pass',\n",
    "       'Passer Rating', 'Passes Defended', 'Passing Attempts',\n",
    "       'Passing Touchdowns', 'Passing Yards', 'Punt Return Fair Catches',\n",
    "       'Punt Return Touchdowns', 'Punt Return Yards', 'Punt Returns',\n",
    "       'Punt Yards', 'Punts', 'Receiving Touchdowns', 'Receiving Yards',\n",
    "       'Receptions', 'Return Touchdowns', 'Rushing Attempts',\n",
    "       'Rushing Touchdowns', 'Rushing Yards', 'Sacks', 'Solo Tackles',\n",
    "       'Total Kicking Points', 'Total Sacks', 'Total Tackles',\n",
    "       'Total Touchdowns', 'Total Two Point Conversions',\n",
    "       'Yards Per Pass Attempt', 'Yards Per Reception',\n",
    "       'Yards Per Rush Attempt', 'career_avg_total_qbr', 'career_avg_qb_plays',\n",
    "       'career_avg_total_epa', 'career_avg_pass', 'career_avg_run',\n",
    "       'career_avg_exp_sack', 'career_avg_penalty', 'career_avg_raw_qbr',\n",
    "       'career_avg_sack', 'career_sum_points_added']"
   ]
  },
  {
   "cell_type": "code",
   "execution_count": null,
   "id": "6ee222f4-0e2d-4826-b752-a82768f3b62a",
   "metadata": {},
   "outputs": [],
   "source": [
    "data[columns_to_zero] = data[columns_to_zero].fillna(0)"
   ]
  },
  {
   "cell_type": "code",
   "execution_count": null,
   "id": "d2d6cf23-cbc3-44b9-ae39-534545d8773b",
   "metadata": {},
   "outputs": [],
   "source": [
    "rows_with_nan = data[data.isna().any(axis=1)]\n",
    "\n",
    "columns_with_nan_per_row = rows_with_nan.isna()\n",
    "\n",
    "for index, row in columns_with_nan_per_row.iterrows():\n",
    "    nan_columns = row[row].index.tolist()"
   ]
  },
  {
   "cell_type": "markdown",
   "id": "fb0bfdc9-5d24-428e-b681-96629b1d5da2",
   "metadata": {},
   "source": [
    "# Since these rows are missing scouting reports and that's the whole premise unless we get better data for scouting reports we will not include these rows"
   ]
  },
  {
   "cell_type": "code",
   "execution_count": null,
   "id": "f7a14871-d637-4159-b75e-d267e8fed64a",
   "metadata": {},
   "outputs": [],
   "source": [
    "cleaned_data = data.dropna()\n",
    "\n",
    "has_nan = cleaned_data.isna().any().any()\n"
   ]
  },
  {
   "cell_type": "code",
   "execution_count": null,
   "id": "98d665b6-014f-44a0-8788-a641d101f702",
   "metadata": {},
   "outputs": [],
   "source": [
    "print(cleaned_data[(cleaned_data['pos_abbr'] == 'LS') & (cleaned_data['draft_year'] == 2015)])"
   ]
  },
  {
   "cell_type": "code",
   "execution_count": null,
   "id": "1e628ae6-6362-44bb-ac53-68f7ab13af2f",
   "metadata": {},
   "outputs": [],
   "source": [
    "player_id_mapping = cleaned_data[['player_id', 'player_name', 'pos_abbr', 'draft_year']]\n",
    "cleaned_data['pos_abbr'] = cleaned_data['pos_abbr'].replace({'ILB': 'LB', 'OLB': 'LB'})\n",
    "pos_abbr_counts = cleaned_data['pos_abbr'].value_counts()\n",
    "cleaned_data = cleaned_data.drop(columns = ['draft_year'])"
   ]
  },
  {
   "cell_type": "code",
   "execution_count": null,
   "id": "12c59fd6-ba7a-4957-aa12-277801d77234",
   "metadata": {},
   "outputs": [],
   "source": [
    "print(cleaned_data['pos_abbr'].unique())"
   ]
  },
  {
   "cell_type": "code",
   "execution_count": null,
   "id": "845825c2-4476-4795-abe6-313359cbdf78",
   "metadata": {},
   "outputs": [],
   "source": [
    "cleaned_data.to_csv('cleaned_data.csv', index = False)"
   ]
  },
  {
   "cell_type": "code",
   "execution_count": null,
   "id": "6c22984f-402b-4548-a22e-e43f06903c47",
   "metadata": {},
   "outputs": [],
   "source": [
    "unique_positions = cleaned_data['pos_abbr'].unique()\n",
    "\n",
    "quant_map = {}\n",
    "qual_map = {}\n",
    "\n",
    "for p in unique_positions:\n",
    "\n",
    "    filter = cleaned_data[cleaned_data['pos_abbr'] == p]\n",
    "    filter = filter.drop(columns=['player_name', 'pos_abbr'])\n",
    "\n",
    "    if 'scouting' in filter.columns:\n",
    "        scouting_col = filter['scouting']\n",
    "        filter = filter.drop(columns=['scouting'])\n",
    "    else:\n",
    "        scouting_col = None  \n",
    "        \n",
    "    if 'player_id' in filter.columns:\n",
    "        player_ids = filter['player_id']\n",
    "        filter = filter.drop(columns=['player_id'])\n",
    "    else:\n",
    "        player_ids = None  \n",
    "\n",
    "    indicator_cols = [col for col in filter.columns if filter[col].dropna().isin([0, 1]).all()]\n",
    "    numeric_cols = filter.select_dtypes(include=['number']).columns.difference(indicator_cols)\n",
    "\n",
    "    scaler = MinMaxScaler()\n",
    "    filter[numeric_cols] = scaler.fit_transform(filter[numeric_cols])\n",
    "\n",
    "    if player_ids is not None:\n",
    "        filter['player_id'] = player_ids\n",
    "\n",
    "    quant_map[p] = filter.copy()\n",
    "\n",
    "    if scouting_col is not None:\n",
    "        filter['scouting'] = scouting_col\n",
    "\n",
    "    qual_map[p] = filter.copy()\n"
   ]
  },
  {
   "cell_type": "code",
   "execution_count": null,
   "id": "efa6a033-4a61-4846-8877-a4d680009f1c",
   "metadata": {},
   "outputs": [],
   "source": [
    "quant_list = []\n",
    "for key, df in quant_map.items():\n",
    "    df = df.copy()\n",
    "    df.insert(0, 'key', key)\n",
    "    quant_list.append(df)\n",
    "\n",
    "final_quant_df = pd.concat(quant_list)\n",
    "final_quant_df.to_csv('quant_map.csv', index=False)"
   ]
  },
  {
   "cell_type": "code",
   "execution_count": null,
   "id": "e3da286f-edde-438a-97b1-ad3f4bd52f22",
   "metadata": {},
   "outputs": [],
   "source": [
    "qual_list = []\n",
    "for key, df in qual_map.items():\n",
    "    df = df.copy()\n",
    "    df.insert(0, 'key', key)\n",
    "    qual_list.append(df)\n",
    "\n",
    "final_qual_df = pd.concat(qual_list)\n",
    "final_qual_df.to_csv('qual_map.csv', index=False)"
   ]
  },
  {
   "cell_type": "code",
   "execution_count": null,
   "id": "3d456e2f-bf9d-4214-bbd7-7259c1114b18",
   "metadata": {},
   "outputs": [],
   "source": [
    "player_id_mapping.to_csv('player_id_mapping.csv')"
   ]
  },
  {
   "cell_type": "code",
   "execution_count": null,
   "id": "64f3efe3-f609-4091-b115-d7fff2dded3e",
   "metadata": {},
   "outputs": [],
   "source": []
  },
  {
   "cell_type": "code",
   "execution_count": null,
   "id": "ffd4b8fe-5be7-404a-9976-cc5a7436d407",
   "metadata": {},
   "outputs": [],
   "source": []
  },
  {
   "cell_type": "code",
   "execution_count": null,
   "id": "f769b6da-cddc-4d12-9402-9771ad18ee98",
   "metadata": {},
   "outputs": [],
   "source": []
  },
  {
   "cell_type": "code",
   "execution_count": null,
   "id": "88dc14e5-3ac6-48b4-be98-accd54fa1f43",
   "metadata": {},
   "outputs": [],
   "source": []
  }
 ],
 "metadata": {
  "kernelspec": {
   "display_name": "Python 3 (ipykernel)",
   "language": "python",
   "name": "python3"
  },
  "language_info": {
   "codemirror_mode": {
    "name": "ipython",
    "version": 3
   },
   "file_extension": ".py",
   "mimetype": "text/x-python",
   "name": "python",
   "nbconvert_exporter": "python",
   "pygments_lexer": "ipython3",
   "version": "3.11.0"
  }
 },
 "nbformat": 4,
 "nbformat_minor": 5
}
